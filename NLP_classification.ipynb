{
 "cells": [
  {
   "cell_type": "code",
   "execution_count": 1,
   "id": "0bc18323-9f58-4723-972c-82ed8d191673",
   "metadata": {},
   "outputs": [
    {
     "data": {
      "text/html": [
       "<div>\n",
       "<style scoped>\n",
       "    .dataframe tbody tr th:only-of-type {\n",
       "        vertical-align: middle;\n",
       "    }\n",
       "\n",
       "    .dataframe tbody tr th {\n",
       "        vertical-align: top;\n",
       "    }\n",
       "\n",
       "    .dataframe thead th {\n",
       "        text-align: right;\n",
       "    }\n",
       "</style>\n",
       "<table border=\"1\" class=\"dataframe\">\n",
       "  <thead>\n",
       "    <tr style=\"text-align: right;\">\n",
       "      <th></th>\n",
       "      <th>ID</th>\n",
       "      <th>text</th>\n",
       "      <th>label</th>\n",
       "    </tr>\n",
       "  </thead>\n",
       "  <tbody>\n",
       "    <tr>\n",
       "      <th>0</th>\n",
       "      <td>0</td>\n",
       "      <td>i just feel really helpless and heavy hearted</td>\n",
       "      <td>4</td>\n",
       "    </tr>\n",
       "    <tr>\n",
       "      <th>1</th>\n",
       "      <td>1</td>\n",
       "      <td>ive enjoyed being able to slouch about relax a...</td>\n",
       "      <td>0</td>\n",
       "    </tr>\n",
       "    <tr>\n",
       "      <th>2</th>\n",
       "      <td>2</td>\n",
       "      <td>i gave up my internship with the dmrg and am f...</td>\n",
       "      <td>4</td>\n",
       "    </tr>\n",
       "    <tr>\n",
       "      <th>3</th>\n",
       "      <td>3</td>\n",
       "      <td>i dont know i feel so lost</td>\n",
       "      <td>0</td>\n",
       "    </tr>\n",
       "    <tr>\n",
       "      <th>4</th>\n",
       "      <td>4</td>\n",
       "      <td>i am a kindergarten teacher and i am thoroughl...</td>\n",
       "      <td>4</td>\n",
       "    </tr>\n",
       "  </tbody>\n",
       "</table>\n",
       "</div>"
      ],
      "text/plain": [
       "   ID                                               text  label\n",
       "0   0      i just feel really helpless and heavy hearted      4\n",
       "1   1  ive enjoyed being able to slouch about relax a...      0\n",
       "2   2  i gave up my internship with the dmrg and am f...      4\n",
       "3   3                         i dont know i feel so lost      0\n",
       "4   4  i am a kindergarten teacher and i am thoroughl...      4"
      ]
     },
     "execution_count": 1,
     "metadata": {},
     "output_type": "execute_result"
    }
   ],
   "source": [
    "#Dataset is emotions. Each entry in this dataset consists of a text segment representing a Twitter message and a corresponding label \n",
    "#indicating the predominant emotion conveyed. The emotions are classified into six categories:\n",
    "#sadness (0), joy (1), love (2), anger (3), fear (4), and surprise (5). \n",
    "\n",
    "# reading data\n",
    "import pandas as pd\n",
    "\n",
    "#create a dataframe from scsv file\n",
    "data_raw = pd.read_csv(\"./NLP.csv\")\n",
    "data_raw.head()"
   ]
  },
  {
   "cell_type": "code",
   "execution_count": 2,
   "id": "0575628d-e6d1-476b-96e7-785d73e5d648",
   "metadata": {},
   "outputs": [
    {
     "data": {
      "text/plain": [
       "Index(['ID', 'text', 'label'], dtype='object')"
      ]
     },
     "execution_count": 2,
     "metadata": {},
     "output_type": "execute_result"
    }
   ],
   "source": [
    "#view columns\n",
    "data_raw.columns"
   ]
  },
  {
   "cell_type": "code",
   "execution_count": 3,
   "id": "525375b1-6faf-4feb-a4ec-b0113a7aa37c",
   "metadata": {},
   "outputs": [
    {
     "data": {
      "text/html": [
       "<div>\n",
       "<style scoped>\n",
       "    .dataframe tbody tr th:only-of-type {\n",
       "        vertical-align: middle;\n",
       "    }\n",
       "\n",
       "    .dataframe tbody tr th {\n",
       "        vertical-align: top;\n",
       "    }\n",
       "\n",
       "    .dataframe thead th {\n",
       "        text-align: right;\n",
       "    }\n",
       "</style>\n",
       "<table border=\"1\" class=\"dataframe\">\n",
       "  <thead>\n",
       "    <tr style=\"text-align: right;\">\n",
       "      <th></th>\n",
       "      <th>ID</th>\n",
       "      <th>text</th>\n",
       "      <th>label</th>\n",
       "    </tr>\n",
       "  </thead>\n",
       "  <tbody>\n",
       "    <tr>\n",
       "      <th>7</th>\n",
       "      <td>7</td>\n",
       "      <td>i fear that they won t ever feel that deliciou...</td>\n",
       "      <td>1</td>\n",
       "    </tr>\n",
       "    <tr>\n",
       "      <th>8</th>\n",
       "      <td>8</td>\n",
       "      <td>im forever taking some time out to have a lie ...</td>\n",
       "      <td>5</td>\n",
       "    </tr>\n",
       "    <tr>\n",
       "      <th>10</th>\n",
       "      <td>10</td>\n",
       "      <td>i try to be nice though so if you get a bitchy...</td>\n",
       "      <td>1</td>\n",
       "    </tr>\n",
       "    <tr>\n",
       "      <th>12</th>\n",
       "      <td>12</td>\n",
       "      <td>i have officially graduated im not feeling as ...</td>\n",
       "      <td>1</td>\n",
       "    </tr>\n",
       "    <tr>\n",
       "      <th>13</th>\n",
       "      <td>13</td>\n",
       "      <td>i feel like a jerk because the library student...</td>\n",
       "      <td>3</td>\n",
       "    </tr>\n",
       "  </tbody>\n",
       "</table>\n",
       "</div>"
      ],
      "text/plain": [
       "    ID                                               text  label\n",
       "7    7  i fear that they won t ever feel that deliciou...      1\n",
       "8    8  im forever taking some time out to have a lie ...      5\n",
       "10  10  i try to be nice though so if you get a bitchy...      1\n",
       "12  12  i have officially graduated im not feeling as ...      1\n",
       "13  13  i feel like a jerk because the library student...      3"
      ]
     },
     "execution_count": 3,
     "metadata": {},
     "output_type": "execute_result"
    }
   ],
   "source": [
    "#Preprocessing\n",
    "\n",
    "#  missing values\n",
    "data_raw.isna().sum()\n",
    "#no missing values\n",
    "\n",
    "#subseting\n",
    "#keep only rows, where label is 1 (joy), 3 (anger) or 5 (surprise) (assigment requirement, potentionally better acurracy)\n",
    "subset_df = data_raw[data_raw['label'].isin([1, 3, 5])]\n",
    "subset_df.head()"
   ]
  },
  {
   "cell_type": "code",
   "execution_count": 4,
   "id": "9dad5af7-2077-411e-b1a4-9dc50c10dce2",
   "metadata": {},
   "outputs": [],
   "source": [
    "# limit number of rows to shorten build time\n",
    "data = subset_df.sample(n=1000)\n",
    "# metaparameter tuning takes ages at larger samples"
   ]
  },
  {
   "cell_type": "code",
   "execution_count": 5,
   "id": "b4c27bcc-c0f7-4b33-b570-412e6016052b",
   "metadata": {
    "scrolled": true
   },
   "outputs": [
    {
     "data": {
      "text/plain": [
       "<Axes: xlabel='label'>"
      ]
     },
     "execution_count": 5,
     "metadata": {},
     "output_type": "execute_result"
    },
    {
     "data": {
      "image/png": "[encoded data removed]",
      "text/plain": [
       "<Figure size 640x480 with 1 Axes>"
      ]
     },
     "metadata": {},
     "output_type": "display_data"
    }
   ],
   "source": [
    "# check target balance\n",
    "data['label'].value_counts(normalize = True).plot.bar()\n",
    "#We can see that the values are quite unbalanced, it could be a great idea to try to balance them out"
   ]
  },
  {
   "cell_type": "code",
   "execution_count": 6,
   "id": "8d26965b-bd75-4d88-87f7-748c77cb915b",
   "metadata": {
    "scrolled": true
   },
   "outputs": [
    {
     "name": "stdout",
     "output_type": "stream",
     "text": [
      "Defaulting to user installation because normal site-packages is not writeable\n",
      "Requirement already satisfied: nltk in /home/jupyter-hort17@vse.cz/.local/lib/python3.10/site-packages (3.8.1)\n",
      "Requirement already satisfied: click in /opt/tljh/user/lib/python3.10/site-packages (from nltk) (8.1.7)\n",
      "Requirement already satisfied: joblib in /opt/tljh/user/lib/python3.10/site-packages (from nltk) (1.3.2)\n",
      "Requirement already satisfied: regex>=2021.8.3 in /home/jupyter-hort17@vse.cz/.local/lib/python3.10/site-packages (from nltk) (2023.12.25)\n",
      "Requirement already satisfied: tqdm in /opt/tljh/user/lib/python3.10/site-packages (from nltk) (4.66.1)\n",
      "\n",
      "\u001b[1m[\u001b[0m\u001b[34;49mnotice\u001b[0m\u001b[1;39;49m]\u001b[0m\u001b[39;49m A new release of pip is available: \u001b[0m\u001b[31;49m23.2.1\u001b[0m\u001b[39;49m -> \u001b[0m\u001b[32;49m24.0\u001b[0m\n",
      "\u001b[1m[\u001b[0m\u001b[34;49mnotice\u001b[0m\u001b[1;39;49m]\u001b[0m\u001b[39;49m To update, run: \u001b[0m\u001b[32;49mpip install --upgrade pip\u001b[0m\n"
     ]
    }
   ],
   "source": [
    "#import library for natural language processing \n",
    "!pip install nltk"
   ]
  },
  {
   "cell_type": "code",
   "execution_count": 7,
   "id": "108fbf91-9e22-436c-b75a-77041ab32553",
   "metadata": {},
   "outputs": [],
   "source": [
    "\n",
    "\n",
    "# text preprocessing\n",
    "import nltk\n",
    "nltk.download('all',quiet=True)\n",
    "\n",
    "# create a list text (all the texts from the data dataframe)\n",
    "text = list(data['text'])\n",
    "\n",
    "# import libs for preprocessing \n",
    "import re\n",
    "from nltk.corpus import stopwords\n",
    "from nltk.stem import WordNetLemmatizer\n",
    "\n"
   ]
  },
  {
   "cell_type": "code",
   "execution_count": 8,
   "id": "1542d756-117e-4574-9078-d3568b69c160",
   "metadata": {},
   "outputs": [
    {
     "data": {
      "text/html": [
       "<div>\n",
       "<style scoped>\n",
       "    .dataframe tbody tr th:only-of-type {\n",
       "        vertical-align: middle;\n",
       "    }\n",
       "\n",
       "    .dataframe tbody tr th {\n",
       "        vertical-align: top;\n",
       "    }\n",
       "\n",
       "    .dataframe thead th {\n",
       "        text-align: right;\n",
       "    }\n",
       "</style>\n",
       "<table border=\"1\" class=\"dataframe\">\n",
       "  <thead>\n",
       "    <tr style=\"text-align: right;\">\n",
       "      <th></th>\n",
       "      <th>ID</th>\n",
       "      <th>text</th>\n",
       "      <th>label</th>\n",
       "    </tr>\n",
       "  </thead>\n",
       "  <tbody>\n",
       "    <tr>\n",
       "      <th>146836</th>\n",
       "      <td>146836</td>\n",
       "      <td>think gone lot feeling past day part rich moth...</td>\n",
       "      <td>1</td>\n",
       "    </tr>\n",
       "    <tr>\n",
       "      <th>98948</th>\n",
       "      <td>98948</td>\n",
       "      <td>must tap emotion show cruel yet name vengeance...</td>\n",
       "      <td>1</td>\n",
       "    </tr>\n",
       "    <tr>\n",
       "      <th>259564</th>\n",
       "      <td>259564</td>\n",
       "      <td>seen chungking express yet feel like director ...</td>\n",
       "      <td>1</td>\n",
       "    </tr>\n",
       "    <tr>\n",
       "      <th>328861</th>\n",
       "      <td>328861</td>\n",
       "      <td>feeling generous decided pull name rafflecopte...</td>\n",
       "      <td>1</td>\n",
       "    </tr>\n",
       "    <tr>\n",
       "      <th>100664</th>\n",
       "      <td>100664</td>\n",
       "      <td>could reach part feel like dont time need esta...</td>\n",
       "      <td>1</td>\n",
       "    </tr>\n",
       "  </tbody>\n",
       "</table>\n",
       "</div>"
      ],
      "text/plain": [
       "            ID                                               text  label\n",
       "146836  146836  think gone lot feeling past day part rich moth...      1\n",
       "98948    98948  must tap emotion show cruel yet name vengeance...      1\n",
       "259564  259564  seen chungking express yet feel like director ...      1\n",
       "328861  328861  feeling generous decided pull name rafflecopte...      1\n",
       "100664  100664  could reach part feel like dont time need esta...      1"
      ]
     },
     "execution_count": 8,
     "metadata": {},
     "output_type": "execute_result"
    }
   ],
   "source": [
    "#initialize lemmatizer for text preprocessing\n",
    "lemmatizer = WordNetLemmatizer()\n",
    "# Initialize an empty list to store preprocessed text\n",
    "corpus = []\n",
    "\n",
    "# Iterate through each text in text column\n",
    "for i in range(len(text)):\n",
    "    # Remove non-alphabetic characters\n",
    "    cleaned_text = re.sub('[^a-zA-Z]', ' ', text[i])\n",
    "    #ex: i am praying that god helps her find peace with her situation and that she does not feel tortured by her feelings\n",
    "    \n",
    "    # Convert text to lowercase\n",
    "    cleaned_text = cleaned_text.lower()\n",
    "    #ex: i am praying that god helps her find peace with her situation and that she does not feel tortured by her feelings\n",
    "    \n",
    "    # Tokenize the text\n",
    "    tokenized_text = cleaned_text.split()\n",
    "    #ex: ['i', 'am', 'praying', 'that', 'god', 'helps', 'her', 'find', 'peace', 'with', 'her', 'situation', 'and', 'that', 'she', 'does', 'not', 'feel', 'tortured', 'by', 'her', 'feelings']\n",
    "    \n",
    "    # Remove stopwords (like \"and\", \"the\"...)\n",
    "    filtered_text = [word for word in tokenized_text if word not in stopwords.words('english')]\n",
    "    #ex:['praying', 'god', 'helps', 'find', 'peace', 'situation', 'feel', 'tortured', 'feelings']\n",
    "    \n",
    "    # Lemmatize the words (lemmatization - using a original form of a word -ex. from \"greenish\" to \"green\")\n",
    "    lemmatized_text = [lemmatizer.lemmatize(word) for word in filtered_text]\n",
    "    #ex: ['praying', 'god', 'help', 'find', 'peace', 'situation', 'feel', 'tortured', 'feeling']\n",
    "    \n",
    "    # Join the words back into a string\n",
    "    preprocessed_text = ' '.join(lemmatized_text)\n",
    "    #praying god help find peace situation feel tortured feeling\n",
    "    \n",
    "    # Append the preprocessed text to the corpus list\n",
    "    corpus.append(preprocessed_text)\n",
    "\n",
    "# Assign the preprocessed corpus back to data['text']\n",
    "data['text'] = corpus\n",
    "\n",
    "# Display the first few rows of the DataFrame\n",
    "data.head()"
   ]
  },
  {
   "cell_type": "code",
   "execution_count": 9,
   "id": "e7f6c910-1f04-4d1c-b6b4-733828f087f9",
   "metadata": {},
   "outputs": [
    {
     "name": "stdout",
     "output_type": "stream",
     "text": [
      "Training Data : (670,)\n",
      "Testing Data :  (330,)\n"
     ]
    }
   ],
   "source": [
    "# Create Feature and Label sets\n",
    "\n",
    "text_set = data['text']\n",
    "label_set = data['label']\n",
    "\n",
    "# train test split (66% train - 33% test)\n",
    "\n",
    "from sklearn.model_selection import train_test_split\n",
    "\n",
    "#crete text and label train and test sets\n",
    "text_train, text_test, label_train, label_test = train_test_split(text_set, label_set, test_size=0.33, random_state=123)\n",
    "\n",
    "print('Training Data :', text_train.shape)\n",
    "print('Testing Data : ', text_test.shape)"
   ]
  },
  {
   "cell_type": "code",
   "execution_count": null,
   "id": "39c71238-2cf3-4e01-bcd0-970892d0563a",
   "metadata": {},
   "outputs": [],
   "source": []
  },
  {
   "cell_type": "code",
   "execution_count": 10,
   "id": "5f1c10f3-077c-4f43-ab4b-ed8981e2bb58",
   "metadata": {},
   "outputs": [
    {
     "name": "stdout",
     "output_type": "stream",
     "text": [
      "  (0, 1017)\t0.46029552829251025\n",
      "  (0, 722)\t0.1731566561193223\n",
      "  (0, 900)\t0.48813672761964516\n",
      "  (0, 1649)\t0.5639546707696875\n",
      "  (0, 2111)\t0.4492465509509578\n"
     ]
    }
   ],
   "source": [
    "from sklearn.feature_extraction.text import TfidfVectorizer\n",
    "\n",
    "# Initialize the TfidfVectorizer - converts the text inputs to number representation\n",
    "tfidf_vectorizer = TfidfVectorizer()\n",
    "\n",
    "text_train_cv = tfidf_vectorizer.fit_transform(text_train)\n",
    "\n",
    "text_train_cv.shape\n",
    "# print out example row of numeric representation of text\n",
    "print(text_train_cv.getrow(0))\n"
   ]
  },
  {
   "cell_type": "code",
   "execution_count": 11,
   "id": "b27f334f-d661-4c42-a754-d4a94ada9f5f",
   "metadata": {},
   "outputs": [
    {
     "data": {
      "text/html": [
       "<style>#sk-container-id-1 {color: black;}#sk-container-id-1 pre{padding: 0;}#sk-container-id-1 div.sk-toggleable {background-color: white;}#sk-container-id-1 label.sk-toggleable__label {cursor: pointer;display: block;width: 100%;margin-bottom: 0;padding: 0.3em;box-sizing: border-box;text-align: center;}#sk-container-id-1 label.sk-toggleable__label-arrow:before {content: \"▸\";float: left;margin-right: 0.25em;color: #696969;}#sk-container-id-1 label.sk-toggleable__label-arrow:hover:before {color: black;}#sk-container-id-1 div.sk-estimator:hover label.sk-toggleable__label-arrow:before {color: black;}#sk-container-id-1 div.sk-toggleable__content {max-height: 0;max-width: 0;overflow: hidden;text-align: left;background-color: #f0f8ff;}#sk-container-id-1 div.sk-toggleable__content pre {margin: 0.2em;color: black;border-radius: 0.25em;background-color: #f0f8ff;}#sk-container-id-1 input.sk-toggleable__control:checked~div.sk-toggleable__content {max-height: 200px;max-width: 100%;overflow: auto;}#sk-container-id-1 input.sk-toggleable__control:checked~label.sk-toggleable__label-arrow:before {content: \"▾\";}#sk-container-id-1 div.sk-estimator input.sk-toggleable__control:checked~label.sk-toggleable__label {background-color: #d4ebff;}#sk-container-id-1 div.sk-label input.sk-toggleable__control:checked~label.sk-toggleable__label {background-color: #d4ebff;}#sk-container-id-1 input.sk-hidden--visually {border: 0;clip: rect(1px 1px 1px 1px);clip: rect(1px, 1px, 1px, 1px);height: 1px;margin: -1px;overflow: hidden;padding: 0;position: absolute;width: 1px;}#sk-container-id-1 div.sk-estimator {font-family: monospace;background-color: #f0f8ff;border: 1px dotted black;border-radius: 0.25em;box-sizing: border-box;margin-bottom: 0.5em;}#sk-container-id-1 div.sk-estimator:hover {background-color: #d4ebff;}#sk-container-id-1 div.sk-parallel-item::after {content: \"\";width: 100%;border-bottom: 1px solid gray;flex-grow: 1;}#sk-container-id-1 div.sk-label:hover label.sk-toggleable__label {background-color: #d4ebff;}#sk-container-id-1 div.sk-serial::before {content: \"\";position: absolute;border-left: 1px solid gray;box-sizing: border-box;top: 0;bottom: 0;left: 50%;z-index: 0;}#sk-container-id-1 div.sk-serial {display: flex;flex-direction: column;align-items: center;background-color: white;padding-right: 0.2em;padding-left: 0.2em;position: relative;}#sk-container-id-1 div.sk-item {position: relative;z-index: 1;}#sk-container-id-1 div.sk-parallel {display: flex;align-items: stretch;justify-content: center;background-color: white;position: relative;}#sk-container-id-1 div.sk-item::before, #sk-container-id-1 div.sk-parallel-item::before {content: \"\";position: absolute;border-left: 1px solid gray;box-sizing: border-box;top: 0;bottom: 0;left: 50%;z-index: -1;}#sk-container-id-1 div.sk-parallel-item {display: flex;flex-direction: column;z-index: 1;position: relative;background-color: white;}#sk-container-id-1 div.sk-parallel-item:first-child::after {align-self: flex-end;width: 50%;}#sk-container-id-1 div.sk-parallel-item:last-child::after {align-self: flex-start;width: 50%;}#sk-container-id-1 div.sk-parallel-item:only-child::after {width: 0;}#sk-container-id-1 div.sk-dashed-wrapped {border: 1px dashed gray;margin: 0 0.4em 0.5em 0.4em;box-sizing: border-box;padding-bottom: 0.4em;background-color: white;}#sk-container-id-1 div.sk-label label {font-family: monospace;font-weight: bold;display: inline-block;line-height: 1.2em;}#sk-container-id-1 div.sk-label-container {text-align: center;}#sk-container-id-1 div.sk-container {/* jupyter's `normalize.less` sets `[hidden] { display: none; }` but bootstrap.min.css set `[hidden] { display: none !important; }` so we also need the `!important` here to be able to override the default hidden behavior on the sphinx rendered scikit-learn.org. See: https://github.com/scikit-learn/scikit-learn/issues/21755 */display: inline-block !important;position: relative;}#sk-container-id-1 div.sk-text-repr-fallback {display: none;}</style><div id=\"sk-container-id-1\" class=\"sk-top-container\"><div class=\"sk-text-repr-fallback\"><pre>LogisticRegression(max_iter=200)</pre><b>In a Jupyter environment, please rerun this cell to show the HTML representation or trust the notebook. <br />On GitHub, the HTML representation is unable to render, please try loading this page with nbviewer.org.</b></div><div class=\"sk-container\" hidden><div class=\"sk-item\"><div class=\"sk-estimator sk-toggleable\"><input class=\"sk-toggleable__control sk-hidden--visually\" id=\"sk-estimator-id-1\" type=\"checkbox\" checked><label for=\"sk-estimator-id-1\" class=\"sk-toggleable__label sk-toggleable__label-arrow\">LogisticRegression</label><div class=\"sk-toggleable__content\"><pre>LogisticRegression(max_iter=200)</pre></div></div></div></div></div>"
      ],
      "text/plain": [
       "LogisticRegression(max_iter=200)"
      ]
     },
     "execution_count": 11,
     "metadata": {},
     "output_type": "execute_result"
    }
   ],
   "source": [
    "# model building\n",
    "# Training Logistic Regression model\n",
    "\n",
    "from sklearn.linear_model import LogisticRegression\n",
    "#set max_iter to 200, as default value 100 is not sufficient\n",
    "lr = LogisticRegression(max_iter=200)\n",
    "#fit the train values to the model\n",
    "lr.fit(text_train_cv, label_train)"
   ]
  },
  {
   "cell_type": "code",
   "execution_count": 12,
   "id": "728fa93b-f8dc-4250-be3f-c4c4dade6ba4",
   "metadata": {},
   "outputs": [
    {
     "data": {
      "text/html": [
       "<style>#sk-container-id-2 {color: black;}#sk-container-id-2 pre{padding: 0;}#sk-container-id-2 div.sk-toggleable {background-color: white;}#sk-container-id-2 label.sk-toggleable__label {cursor: pointer;display: block;width: 100%;margin-bottom: 0;padding: 0.3em;box-sizing: border-box;text-align: center;}#sk-container-id-2 label.sk-toggleable__label-arrow:before {content: \"▸\";float: left;margin-right: 0.25em;color: #696969;}#sk-container-id-2 label.sk-toggleable__label-arrow:hover:before {color: black;}#sk-container-id-2 div.sk-estimator:hover label.sk-toggleable__label-arrow:before {color: black;}#sk-container-id-2 div.sk-toggleable__content {max-height: 0;max-width: 0;overflow: hidden;text-align: left;background-color: #f0f8ff;}#sk-container-id-2 div.sk-toggleable__content pre {margin: 0.2em;color: black;border-radius: 0.25em;background-color: #f0f8ff;}#sk-container-id-2 input.sk-toggleable__control:checked~div.sk-toggleable__content {max-height: 200px;max-width: 100%;overflow: auto;}#sk-container-id-2 input.sk-toggleable__control:checked~label.sk-toggleable__label-arrow:before {content: \"▾\";}#sk-container-id-2 div.sk-estimator input.sk-toggleable__control:checked~label.sk-toggleable__label {background-color: #d4ebff;}#sk-container-id-2 div.sk-label input.sk-toggleable__control:checked~label.sk-toggleable__label {background-color: #d4ebff;}#sk-container-id-2 input.sk-hidden--visually {border: 0;clip: rect(1px 1px 1px 1px);clip: rect(1px, 1px, 1px, 1px);height: 1px;margin: -1px;overflow: hidden;padding: 0;position: absolute;width: 1px;}#sk-container-id-2 div.sk-estimator {font-family: monospace;background-color: #f0f8ff;border: 1px dotted black;border-radius: 0.25em;box-sizing: border-box;margin-bottom: 0.5em;}#sk-container-id-2 div.sk-estimator:hover {background-color: #d4ebff;}#sk-container-id-2 div.sk-parallel-item::after {content: \"\";width: 100%;border-bottom: 1px solid gray;flex-grow: 1;}#sk-container-id-2 div.sk-label:hover label.sk-toggleable__label {background-color: #d4ebff;}#sk-container-id-2 div.sk-serial::before {content: \"\";position: absolute;border-left: 1px solid gray;box-sizing: border-box;top: 0;bottom: 0;left: 50%;z-index: 0;}#sk-container-id-2 div.sk-serial {display: flex;flex-direction: column;align-items: center;background-color: white;padding-right: 0.2em;padding-left: 0.2em;position: relative;}#sk-container-id-2 div.sk-item {position: relative;z-index: 1;}#sk-container-id-2 div.sk-parallel {display: flex;align-items: stretch;justify-content: center;background-color: white;position: relative;}#sk-container-id-2 div.sk-item::before, #sk-container-id-2 div.sk-parallel-item::before {content: \"\";position: absolute;border-left: 1px solid gray;box-sizing: border-box;top: 0;bottom: 0;left: 50%;z-index: -1;}#sk-container-id-2 div.sk-parallel-item {display: flex;flex-direction: column;z-index: 1;position: relative;background-color: white;}#sk-container-id-2 div.sk-parallel-item:first-child::after {align-self: flex-end;width: 50%;}#sk-container-id-2 div.sk-parallel-item:last-child::after {align-self: flex-start;width: 50%;}#sk-container-id-2 div.sk-parallel-item:only-child::after {width: 0;}#sk-container-id-2 div.sk-dashed-wrapped {border: 1px dashed gray;margin: 0 0.4em 0.5em 0.4em;box-sizing: border-box;padding-bottom: 0.4em;background-color: white;}#sk-container-id-2 div.sk-label label {font-family: monospace;font-weight: bold;display: inline-block;line-height: 1.2em;}#sk-container-id-2 div.sk-label-container {text-align: center;}#sk-container-id-2 div.sk-container {/* jupyter's `normalize.less` sets `[hidden] { display: none; }` but bootstrap.min.css set `[hidden] { display: none !important; }` so we also need the `!important` here to be able to override the default hidden behavior on the sphinx rendered scikit-learn.org. See: https://github.com/scikit-learn/scikit-learn/issues/21755 */display: inline-block !important;position: relative;}#sk-container-id-2 div.sk-text-repr-fallback {display: none;}</style><div id=\"sk-container-id-2\" class=\"sk-top-container\"><div class=\"sk-text-repr-fallback\"><pre>RandomForestClassifier()</pre><b>In a Jupyter environment, please rerun this cell to show the HTML representation or trust the notebook. <br />On GitHub, the HTML representation is unable to render, please try loading this page with nbviewer.org.</b></div><div class=\"sk-container\" hidden><div class=\"sk-item\"><div class=\"sk-estimator sk-toggleable\"><input class=\"sk-toggleable__control sk-hidden--visually\" id=\"sk-estimator-id-2\" type=\"checkbox\" checked><label for=\"sk-estimator-id-2\" class=\"sk-toggleable__label sk-toggleable__label-arrow\">RandomForestClassifier</label><div class=\"sk-toggleable__content\"><pre>RandomForestClassifier()</pre></div></div></div></div></div>"
      ],
      "text/plain": [
       "RandomForestClassifier()"
      ]
     },
     "execution_count": 12,
     "metadata": {},
     "output_type": "execute_result"
    }
   ],
   "source": [
    "#Train model using random forest\n",
    "from sklearn.ensemble import RandomForestClassifier\n",
    "\n",
    "# Initialize the Random Forest classifier\n",
    "rf_classifier = RandomForestClassifier()\n",
    "\n",
    "# Fit the training data to the model\n",
    "rf_classifier.fit(text_train_cv, label_train)"
   ]
  },
  {
   "cell_type": "code",
   "execution_count": 13,
   "id": "52c4d788-74ba-4ded-9805-c332907e4162",
   "metadata": {},
   "outputs": [
    {
     "data": {
      "text/plain": [
       "['./rf_model.joblib']"
      ]
     },
     "execution_count": 13,
     "metadata": {},
     "output_type": "execute_result"
    }
   ],
   "source": [
    "#save model so it doesn't have to be generated on kernel reset\n",
    "from joblib import dump, load\n",
    "dump(lr, './lr_model.joblib') \n",
    "dump(rf_classifier, './rf_model.joblib') \n"
   ]
  },
  {
   "cell_type": "code",
   "execution_count": 14,
   "id": "682ca854-ce13-4827-9a7e-90352a49a0e5",
   "metadata": {},
   "outputs": [],
   "source": [
    "lr = load('./lr_model.joblib') \n",
    "rf_classifier = load('./rf_model.joblib') "
   ]
  },
  {
   "cell_type": "code",
   "execution_count": 15,
   "id": "355ce069-d6b4-45d5-875a-72a20ea09137",
   "metadata": {},
   "outputs": [
    {
     "data": {
      "text/plain": [
       "array([1, 1, 1, 1, 3, 1, 1, 1, 1, 1, 1, 1, 1, 1, 1, 1, 1, 1, 1, 1, 1, 1,\n",
       "       1, 1, 1, 1, 1, 1, 1, 1, 3, 1, 1, 1, 1, 1, 1, 3, 1, 1, 1, 1, 1, 1,\n",
       "       1, 1, 1, 1, 3, 1, 1, 1, 3, 1, 1, 1, 1, 1, 1, 1, 1, 1, 1, 1, 3, 1,\n",
       "       1, 1, 1, 1, 1, 1, 1, 1, 1, 1, 1, 1, 1, 1, 1, 1, 1, 1, 1, 1, 1, 1,\n",
       "       3, 1, 1, 1, 1, 1, 1, 1, 1, 1, 1, 1, 1, 3, 1, 1, 1, 1, 1, 3, 1, 1,\n",
       "       1, 1, 1, 1, 1, 1, 1, 1, 3, 1, 1, 1, 1, 1, 1, 1, 1, 1, 1, 1, 3, 1,\n",
       "       1, 1, 1, 1, 1, 1, 1, 1, 1, 1, 1, 1, 1, 1, 1, 1, 1, 1, 1, 1, 1, 1,\n",
       "       1, 1, 1, 1, 1, 1, 1, 1, 1, 1, 1, 1, 1, 1, 1, 3, 1, 1, 1, 1, 1, 1,\n",
       "       1, 1, 1, 1, 1, 1, 1, 1, 1, 1, 1, 1, 3, 1, 1, 1, 1, 1, 1, 1, 1, 1,\n",
       "       1, 1, 1, 1, 1, 1, 1, 1, 1, 1, 1, 1, 1, 1, 1, 1, 1, 1, 1, 1, 1, 1,\n",
       "       1, 1, 1, 1, 1, 1, 1, 1, 1, 1, 1, 1, 1, 3, 1, 1, 1, 1, 1, 1, 1, 1,\n",
       "       1, 1, 1, 1, 1, 1, 1, 1, 1, 1, 1, 1, 1, 1, 1, 1, 1, 1, 1, 1, 1, 1,\n",
       "       1, 1, 1, 3, 1, 1, 3, 1, 1, 3, 1, 1, 1, 1, 1, 1, 1, 1, 1, 1, 1, 1,\n",
       "       1, 1, 1, 1, 1, 1, 1, 1, 1, 1, 1, 1, 1, 1, 1, 1, 1, 1, 1, 1, 1, 1,\n",
       "       1, 1, 1, 1, 1, 1, 1, 1, 1, 1, 1, 1, 1, 1, 1, 1, 1, 1, 1, 3, 1, 1])"
      ]
     },
     "execution_count": 15,
     "metadata": {},
     "output_type": "execute_result"
    }
   ],
   "source": [
    "# transform text_test using CV for evaluation\n",
    "text_test_cv = tfidf_vectorizer.transform(text_test)\n",
    "\n",
    "# generate predictions for regression\n",
    "predictions_lr = lr.predict(text_test_cv)\n",
    "\n",
    "# generate predictions for random forest\n",
    "predictions_rf = rf_classifier.predict(text_test_cv)\n",
    "\n",
    "\n",
    "predictions_lr\n",
    "# joy (1), anger (3), surprise (5)."
   ]
  },
  {
   "cell_type": "code",
   "execution_count": 28,
   "id": "c175127d-c8fd-4636-9dbe-64242ed33c3f",
   "metadata": {},
   "outputs": [
    {
     "data": {
      "text/html": [
       "<div>\n",
       "<style scoped>\n",
       "    .dataframe tbody tr th:only-of-type {\n",
       "        vertical-align: middle;\n",
       "    }\n",
       "\n",
       "    .dataframe tbody tr th {\n",
       "        vertical-align: top;\n",
       "    }\n",
       "\n",
       "    .dataframe thead th {\n",
       "        text-align: right;\n",
       "    }\n",
       "</style>\n",
       "<table border=\"1\" class=\"dataframe\">\n",
       "  <thead>\n",
       "    <tr style=\"text-align: right;\">\n",
       "      <th></th>\n",
       "      <th>0</th>\n",
       "      <th>1</th>\n",
       "      <th>2</th>\n",
       "    </tr>\n",
       "  </thead>\n",
       "  <tbody>\n",
       "    <tr>\n",
       "      <th>0</th>\n",
       "      <td>212</td>\n",
       "      <td>1</td>\n",
       "      <td>0</td>\n",
       "    </tr>\n",
       "    <tr>\n",
       "      <th>1</th>\n",
       "      <td>68</td>\n",
       "      <td>17</td>\n",
       "      <td>0</td>\n",
       "    </tr>\n",
       "    <tr>\n",
       "      <th>2</th>\n",
       "      <td>32</td>\n",
       "      <td>0</td>\n",
       "      <td>0</td>\n",
       "    </tr>\n",
       "  </tbody>\n",
       "</table>\n",
       "</div>"
      ],
      "text/plain": [
       "     0   1  2\n",
       "0  212   1  0\n",
       "1   68  17  0\n",
       "2   32   0  0"
      ]
     },
     "execution_count": 28,
     "metadata": {},
     "output_type": "execute_result"
    }
   ],
   "source": [
    "# confusion matrix for regression\n",
    "\n",
    "import pandas as pd\n",
    "\n",
    "from sklearn import metrics\n",
    "\n",
    "\n",
    "df = pd.DataFrame(metrics.confusion_matrix(label_test,predictions_lr))\n",
    "# joy (0), anger (1), surprise (2).\n",
    "df"
   ]
  },
  {
   "cell_type": "code",
   "execution_count": 17,
   "id": "177346f1-e3bf-428b-9525-6f2d98834c84",
   "metadata": {},
   "outputs": [
    {
     "data": {
      "text/html": [
       "<div>\n",
       "<style scoped>\n",
       "    .dataframe tbody tr th:only-of-type {\n",
       "        vertical-align: middle;\n",
       "    }\n",
       "\n",
       "    .dataframe tbody tr th {\n",
       "        vertical-align: top;\n",
       "    }\n",
       "\n",
       "    .dataframe thead th {\n",
       "        text-align: right;\n",
       "    }\n",
       "</style>\n",
       "<table border=\"1\" class=\"dataframe\">\n",
       "  <thead>\n",
       "    <tr style=\"text-align: right;\">\n",
       "      <th></th>\n",
       "      <th>0</th>\n",
       "      <th>1</th>\n",
       "      <th>2</th>\n",
       "    </tr>\n",
       "  </thead>\n",
       "  <tbody>\n",
       "    <tr>\n",
       "      <th>0</th>\n",
       "      <td>212</td>\n",
       "      <td>0</td>\n",
       "      <td>1</td>\n",
       "    </tr>\n",
       "    <tr>\n",
       "      <th>1</th>\n",
       "      <td>47</td>\n",
       "      <td>37</td>\n",
       "      <td>1</td>\n",
       "    </tr>\n",
       "    <tr>\n",
       "      <th>2</th>\n",
       "      <td>22</td>\n",
       "      <td>0</td>\n",
       "      <td>10</td>\n",
       "    </tr>\n",
       "  </tbody>\n",
       "</table>\n",
       "</div>"
      ],
      "text/plain": [
       "     0   1   2\n",
       "0  212   0   1\n",
       "1   47  37   1\n",
       "2   22   0  10"
      ]
     },
     "execution_count": 17,
     "metadata": {},
     "output_type": "execute_result"
    }
   ],
   "source": [
    "# confusion matrix for random forest\n",
    "\n",
    "import pandas as pd\n",
    "\n",
    "from sklearn import metrics\n",
    "\n",
    "df = pd.DataFrame(metrics.confusion_matrix(label_test,predictions_rf))\n",
    "# joy (0), anger (1), surprise (2).\n",
    "df"
   ]
  },
  {
   "cell_type": "code",
   "execution_count": 18,
   "id": "e0055aaa-f0e5-4fe2-9e4d-d56a80c751c8",
   "metadata": {},
   "outputs": [
    {
     "name": "stdout",
     "output_type": "stream",
     "text": [
      "Accuracy using logistic regression: 0.693939393939394\n"
     ]
    }
   ],
   "source": [
    "#accuracy of logistic regression\n",
    "\n",
    "from sklearn.metrics import accuracy_score\n",
    "# Calculate accuracy\n",
    "accuracy_lr = accuracy_score(label_test, predictions_lr)\n",
    "\n",
    "print(\"Accuracy using logistic regression:\", accuracy_lr)"
   ]
  },
  {
   "cell_type": "code",
   "execution_count": 19,
   "id": "28ae25e3-9a0f-48d6-a970-a10a9ba611f0",
   "metadata": {},
   "outputs": [
    {
     "name": "stdout",
     "output_type": "stream",
     "text": [
      "Accuracy using random forest: 0.7848484848484848\n"
     ]
    }
   ],
   "source": [
    "#accuracy of random forest\n",
    "from sklearn.metrics import accuracy_score\n",
    "# Calculate accuracy\n",
    "accuracy_rf = accuracy_score(label_test, predictions_rf)\n",
    "\n",
    "print(\"Accuracy using random forest:\", accuracy_rf)"
   ]
  },
  {
   "cell_type": "code",
   "execution_count": 20,
   "id": "1e553386-f234-4233-aa98-294a761cf71a",
   "metadata": {},
   "outputs": [
    {
     "name": "stdout",
     "output_type": "stream",
     "text": [
      "{'C': 8.932802589188682, 'max_iter': 491, 'penalty': 'l1', 'solver': 'liblinear'}\n"
     ]
    }
   ],
   "source": [
    "# meta parameter tuning for logistic regression\n",
    "from sklearn.model_selection import RandomizedSearchCV\n",
    "from scipy.stats import uniform, randint\n",
    "\n",
    "import warnings\n",
    "warnings.filterwarnings('ignore')\n",
    "\n",
    "# Define the hyperparameter distributions for Logistic Regression\n",
    "lr_param_dist = {\n",
    "    'C': uniform(0.1,10),\n",
    "    'max_iter': randint(400, 500),\n",
    "    'penalty': ['l1', 'l2'],\n",
    "    'solver': ['liblinear', 'saga']\n",
    "}\n",
    "\n",
    "# Perform randomized search for Logistic Regression\n",
    "lr_random_search = RandomizedSearchCV(LogisticRegression(), lr_param_dist, n_iter=100, cv=5, random_state=42)\n",
    "lr_random_search.fit(text_train_cv, label_train)\n",
    "\n",
    "print(lr_random_search.best_params_)\n"
   ]
  },
  {
   "cell_type": "code",
   "execution_count": 21,
   "id": "192cdff1-5a1a-4426-8966-4b1bbdad5037",
   "metadata": {},
   "outputs": [
    {
     "name": "stdout",
     "output_type": "stream",
     "text": [
      "{'max_depth': None, 'max_features': 'sqrt', 'min_samples_leaf': 1, 'min_samples_split': 13, 'n_estimators': 319}\n"
     ]
    }
   ],
   "source": [
    "\n",
    "# meta parameter tuning for random forest\n",
    "# Define the hyperparameter distributions for Random Forest\n",
    "rf_param_dist = {\n",
    "    'n_estimators': randint(100, 500),\n",
    "    'max_depth': [None, 10, 20, 30],\n",
    "    'min_samples_split': randint(2, 20),\n",
    "    'min_samples_leaf': randint(1, 10),\n",
    "    'max_features': ['auto', 'sqrt']\n",
    "}\n",
    "\n",
    "# Perform randomized search for Random Forest\n",
    "rf_random_search = RandomizedSearchCV(RandomForestClassifier(), rf_param_dist, n_iter=100, cv=5, random_state=42)\n",
    "rf_random_search.fit(text_train_cv, label_train)\n",
    "\n",
    "\n",
    "print(rf_random_search.best_params_)"
   ]
  },
  {
   "cell_type": "code",
   "execution_count": 22,
   "id": "0d1aec71-7c68-4323-a473-34a9976a6824",
   "metadata": {},
   "outputs": [
    {
     "name": "stdout",
     "output_type": "stream",
     "text": [
      "Accuracy using logistic regression after metaparameter tuning: 0.9484848484848485\n",
      "Accuracy using random forest after metaparameter tuning: 0.7515151515151515\n"
     ]
    }
   ],
   "source": [
    "#accuracy of logistic regression after hyperparameter tuning\n",
    "\n",
    "from sklearn.metrics import accuracy_score\n",
    "predictions_lr_hyper = lr_random_search.predict(text_test_cv)\n",
    "# Calculate accuracy\n",
    "accuracy_lr = accuracy_score(label_test, predictions_lr_hyper)\n",
    "\n",
    "print(\"Accuracy using logistic regression after metaparameter tuning:\", accuracy_lr)\n",
    "\n",
    "#accuracy of random tree after hyperparameter tuning\n",
    "\n",
    "from sklearn.metrics import accuracy_score\n",
    "predictions_rf_hyper = rf_random_search.predict(text_test_cv)\n",
    "# Calculate accuracy\n",
    "accuracy_rf_hyper = accuracy_score(label_test, predictions_rf_hyper)\n",
    "\n",
    "print(\"Accuracy using random forest after metaparameter tuning:\", accuracy_rf_hyper)"
   ]
  },
  {
   "cell_type": "code",
   "execution_count": 32,
   "id": "31c554ff-f2b3-482d-9157-1654311e1b56",
   "metadata": {},
   "outputs": [
    {
     "name": "stdout",
     "output_type": "stream",
     "text": [
      "I'm a selfish person [3]\n",
      "I love chocolate [1]\n"
     ]
    }
   ],
   "source": [
    "#you can test the classification on your own input - would work better if you use more rows, currently\n",
    "#the model is trained on only 1000 rows to keep the build time low.\n",
    "input = \"I'm a selfish person\" #should evalute to 3\n",
    "input_joy = \"I love chocolate\"\n",
    "#\"I love chocolate\" should evaluate to 1\n",
    "\n",
    "sparse_matrix = tfidf_vectorizer.transform([input])\n",
    "pred1 = lr_random_search.predict(sparse_matrix)\n",
    "\n",
    "sparse_matrix = tfidf_vectorizer.transform([input_joy])\n",
    "pred2 = lr_random_search.predict(sparse_matrix)\n",
    "\n",
    "print(\"I'm a selfish person\", pred1)\n",
    "print(\"I love chocolate\", pred2)\n",
    "# joy (1), anger (3), surprise (5)."
   ]
  },
  {
   "cell_type": "code",
   "execution_count": null,
   "id": "25214996-cc81-4487-8145-339e4514fe30",
   "metadata": {},
   "outputs": [],
   "source": []
  },
  {
   "cell_type": "code",
   "execution_count": null,
   "id": "54d294e7-3b18-4330-9222-7b095f0f760d",
   "metadata": {},
   "outputs": [],
   "source": []
  },
  {
   "cell_type": "code",
   "execution_count": null,
   "id": "0aa87005-b16f-4104-b19d-8026d1cc17d9",
   "metadata": {},
   "outputs": [],
   "source": []
  }
 ],
 "metadata": {
  "kernelspec": {
   "display_name": "Python 3 (ipykernel)",
   "language": "python",
   "name": "python3"
  },
  "language_info": {
   "codemirror_mode": {
    "name": "ipython",
    "version": 3
   },
   "file_extension": ".py",
   "mimetype": "text/x-python",
   "name": "python",
   "nbconvert_exporter": "python",
   "pygments_lexer": "ipython3",
   "version": "3.10.10"
  }
 },
 "nbformat": 4,
 "nbformat_minor": 5
}
